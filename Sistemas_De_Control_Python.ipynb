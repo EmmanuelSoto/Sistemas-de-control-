{
 "cells": [
  {
   "cell_type": "markdown",
   "id": "1ef6fb00",
   "metadata": {},
   "source": [
    "# Sistemas de control con Python"
   ]
  },
  {
   "cell_type": "code",
   "execution_count": 1,
   "id": "02da19bc",
   "metadata": {},
   "outputs": [],
   "source": [
    "from scipy.signal import lti\n",
    "#scipy.signal permite trabajar sistemas lineales en tiempo continuo (LTI)\n",
    "import matplotlib.pyplot as plt\n",
    "# matplotlib.pyplot permite realizar gráficas\n",
    "import sympy as sy\n",
    "# sympy permite trabajar con matemáticas simbólicas\n",
    "from sympy import Symbol\n",
    "import numpy as np\n",
    "from ipywidgets import interact, fixed"
   ]
  },
  {
   "cell_type": "code",
   "execution_count": 2,
   "id": "aec46c9f",
   "metadata": {},
   "outputs": [],
   "source": [
    "num = [1, 1] #numerador\n",
    "den = [1, 2, 1] #denominador\n",
    "sys = lti(num,den) # función de transferencia "
   ]
  },
  {
   "cell_type": "code",
   "execution_count": 3,
   "id": "d1563431",
   "metadata": {},
   "outputs": [
    {
     "data": {
      "text/plain": [
       "TransferFunctionContinuous(\n",
       "array([1., 1.]),\n",
       "array([1., 2., 1.]),\n",
       "dt: None\n",
       ")"
      ]
     },
     "execution_count": 3,
     "metadata": {},
     "output_type": "execute_result"
    }
   ],
   "source": [
    "sys"
   ]
  },
  {
   "cell_type": "code",
   "execution_count": 4,
   "id": "725b56fb",
   "metadata": {},
   "outputs": [],
   "source": [
    "t,y=sys.step()"
   ]
  },
  {
   "cell_type": "code",
   "execution_count": 5,
   "id": "39b0a2f5",
   "metadata": {},
   "outputs": [
    {
     "data": {
      "image/png": "[encoded data removed]",
      "text/plain": [
       "<Figure size 432x288 with 1 Axes>"
      ]
     },
     "metadata": {
      "needs_background": "light"
     },
     "output_type": "display_data"
    }
   ],
   "source": [
    "plt.plot(t,y,label='respuesta')\n",
    "plt.plot([0,t[-1]], [1]*2, label='valor final')\n",
    "plt.legend()\n",
    "plt.grid()\n",
    "plt.show()"
   ]
  },
  {
   "cell_type": "code",
   "execution_count": 6,
   "id": "41cbb8e3",
   "metadata": {},
   "outputs": [
    {
     "data": {
      "text/plain": [
       "0.9990881180344455"
      ]
     },
     "execution_count": 6,
     "metadata": {},
     "output_type": "execute_result"
    }
   ],
   "source": [
    "y[-1]"
   ]
  },
  {
   "cell_type": "code",
   "execution_count": 7,
   "id": "51203a4a",
   "metadata": {},
   "outputs": [],
   "source": [
    "def pretysys(sys):\n",
    "    s = sy.symbols('s')\n",
    "    num = sy.Poly(sys.num, s)\n",
    "    den = sy.Poly(sys.den, s)\n",
    "    return num/den"
   ]
  },
  {
   "cell_type": "code",
   "execution_count": 8,
   "id": "709b150e",
   "metadata": {},
   "outputs": [
    {
     "data": {
      "text/latex": [
       "$\\displaystyle \\frac{1.0 s + 1.0}{1.0 s^{2} + 2.0 s + 1.0}$"
      ],
      "text/plain": [
       "(1.0*s + 1.0)/(1.0*s**2 + 2.0*s + 1.0)"
      ]
     },
     "execution_count": 8,
     "metadata": {},
     "output_type": "execute_result"
    }
   ],
   "source": [
    "pretysys(sys)"
   ]
  }
 ],
 "metadata": {
  "kernelspec": {
   "display_name": "Python 3 (ipykernel)",
   "language": "python",
   "name": "python3"
  },
  "language_info": {
   "codemirror_mode": {
    "name": "ipython",
    "version": 3
   },
   "file_extension": ".py",
   "mimetype": "text/x-python",
   "name": "python",
   "nbconvert_exporter": "python",
   "pygments_lexer": "ipython3",
   "version": "3.9.7"
  }
 },
 "nbformat": 4,
 "nbformat_minor": 5
}
