{
 "cells": [
  {
   "cell_type": "markdown",
   "id": "1ef6fb00",
   "metadata": {},
   "source": [
    "# Sistemas de control con Python"
   ]
  },
  {
   "cell_type": "code",
   "execution_count": 30,
   "id": "02da19bc",
   "metadata": {},
   "outputs": [],
   "source": [
    "from scipy.signal import lti\n",
    "#scipy.signal permite trabajar sistemas lineales en tiempo continuo (LTI)\n",
    "import matplotlib.pyplot as plt\n",
    "# matplotlib.pyplot permite realizar gráficas\n",
    "import sympy as sy\n",
    "# sympy permite trabajar con matemáticas simbólicas\n",
    "from sympy import Symbol\n",
    "import numpy as np\n",
    "from ipywidgets import interact, fixed"
   ]
  },
  {
   "cell_type": "code",
   "execution_count": 31,
   "id": "aec46c9f",
   "metadata": {},
   "outputs": [],
   "source": [
    "num = [1, 1] #numerador\n",
    "den = [1, 2, 1] #denominador\n",
    "sys = lti(num,den) # función de transferencia "
   ]
  },
  {
   "cell_type": "code",
   "execution_count": 32,
   "id": "d1563431",
   "metadata": {},
   "outputs": [
    {
     "data": {
      "text/plain": [
       "TransferFunctionContinuous(\n",
       "array([1., 1.]),\n",
       "array([1., 2., 1.]),\n",
       "dt: None\n",
       ")"
      ]
     },
     "execution_count": 32,
     "metadata": {},
     "output_type": "execute_result"
    }
   ],
   "source": [
    "sys"
   ]
  },
  {
   "cell_type": "code",
   "execution_count": 33,
   "id": "725b56fb",
   "metadata": {},
   "outputs": [],
   "source": [
    "t,y=sys.step()"
   ]
  },
  {
   "cell_type": "code",
   "execution_count": 38,
   "id": "39b0a2f5",
   "metadata": {},
   "outputs": [
    {
     "data": {
      "image/png": "[encoded data removed]",
      "text/plain": [
       "<Figure size 432x288 with 1 Axes>"
      ]
     },
     "metadata": {
      "needs_background": "light"
     },
     "output_type": "display_data"
    }
   ],
   "source": [
    "plt.plot(t,y,label='respuesta')\n",
    "plt.plot([0,t[-1]], [1]*2, label='valor final')\n",
    "plt.legend()\n",
    "plt.grid()\n",
    "plt.show()"
   ]
  },
  {
   "cell_type": "code",
   "execution_count": 35,
   "id": "41cbb8e3",
   "metadata": {},
   "outputs": [
    {
     "data": {
      "text/plain": [
       "0.9990881180344455"
      ]
     },
     "execution_count": 35,
     "metadata": {},
     "output_type": "execute_result"
    }
   ],
   "source": [
    "y[-1]"
   ]
  },
  {
   "cell_type": "code",
   "execution_count": 36,
   "id": "51203a4a",
   "metadata": {},
   "outputs": [],
   "source": [
    "def pretysys(sys):\n",
    "    s = sy.symbols('s')\n",
    "    num = sy.Poly(sys.num, s)\n",
    "    den = sy.Poly(sys.den, s)\n",
    "    return num/den"
   ]
  },
  {
   "cell_type": "code",
   "execution_count": 37,
   "id": "709b150e",
   "metadata": {},
   "outputs": [
    {
     "data": {
      "text/latex": [
       "$\\displaystyle \\frac{1.0 s + 1.0}{1.0 s^{2} + 2.0 s + 1.0}$"
      ],
      "text/plain": [
       "(1.0*s + 1.0)/(1.0*s**2 + 2.0*s + 1.0)"
      ]
     },
     "execution_count": 37,
     "metadata": {},
     "output_type": "execute_result"
    }
   ],
   "source": [
    "pretysys(sys)"
   ]
  },
  {
   "cell_type": "code",
   "execution_count": 9,
   "id": "e4299fff",
   "metadata": {},
   "outputs": [],
   "source": [
    "sys2 = lti([2],[1, 2, 3])"
   ]
  },
  {
   "cell_type": "code",
   "execution_count": 10,
   "id": "3e5ecdc4",
   "metadata": {},
   "outputs": [
    {
     "data": {
      "text/latex": [
       "$\\displaystyle \\frac{2.0}{1.0 s^{2} + 2.0 s + 3.0}$"
      ],
      "text/plain": [
       "2.0/(1.0*s**2 + 2.0*s + 3.0)"
      ]
     },
     "execution_count": 10,
     "metadata": {},
     "output_type": "execute_result"
    }
   ],
   "source": [
    "pretysys(sys2)"
   ]
  },
  {
   "cell_type": "code",
   "execution_count": 11,
   "id": "9ec644cf",
   "metadata": {},
   "outputs": [],
   "source": [
    "def serie(sys1, sys2):\n",
    "    num = np.polymul(sys1.num, sys2.num)\n",
    "    den = np.polymul(sys1.den, sys2.den)\n",
    "    return lti(num,den)"
   ]
  },
  {
   "cell_type": "code",
   "execution_count": 12,
   "id": "af042446",
   "metadata": {},
   "outputs": [],
   "source": [
    "a = lti([2],[1,2])\n",
    "b = lti([1], [1,2,3])"
   ]
  },
  {
   "cell_type": "code",
   "execution_count": 13,
   "id": "f9ca3609",
   "metadata": {},
   "outputs": [
    {
     "data": {
      "text/latex": [
       "$\\displaystyle \\frac{2.0}{1.0 s + 2.0}$"
      ],
      "text/plain": [
       "2.0/(1.0*s + 2.0)"
      ]
     },
     "execution_count": 13,
     "metadata": {},
     "output_type": "execute_result"
    }
   ],
   "source": [
    "pretysys(a)"
   ]
  },
  {
   "cell_type": "code",
   "execution_count": 14,
   "id": "bc321b5a",
   "metadata": {},
   "outputs": [
    {
     "data": {
      "text/latex": [
       "$\\displaystyle \\frac{1.0}{1.0 s^{2} + 2.0 s + 3.0}$"
      ],
      "text/plain": [
       "1.0/(1.0*s**2 + 2.0*s + 3.0)"
      ]
     },
     "execution_count": 14,
     "metadata": {},
     "output_type": "execute_result"
    }
   ],
   "source": [
    "pretysys(b)"
   ]
  },
  {
   "cell_type": "code",
   "execution_count": 15,
   "id": "5b5af5b3",
   "metadata": {},
   "outputs": [
    {
     "data": {
      "text/latex": [
       "$\\displaystyle \\frac{2.0}{1.0 s^{3} + 4.0 s^{2} + 7.0 s + 6.0}$"
      ],
      "text/plain": [
       "2.0/(1.0*s**3 + 4.0*s**2 + 7.0*s + 6.0)"
      ]
     },
     "execution_count": 15,
     "metadata": {},
     "output_type": "execute_result"
    }
   ],
   "source": [
    "pretysys(serie(a,b))"
   ]
  },
  {
   "cell_type": "markdown",
   "id": "8cd9d51e",
   "metadata": {},
   "source": [
    "funcion_t_open_loop = $G(s)$"
   ]
  },
  {
   "cell_type": "markdown",
   "id": "2705b580",
   "metadata": {},
   "source": [
    "fun_t_feedback = $H(s)$"
   ]
  },
  {
   "cell_type": "markdown",
   "id": "ffc32611",
   "metadata": {},
   "source": [
    "$$GH(s) = \\frac{G(s)}{1+G(s)\\cdot H(s)} = \\frac{GN\\cdot HD}{GN\\cdot HN + GD\\cdot HG}$$    "
   ]
  },
  {
   "cell_type": "code",
   "execution_count": 16,
   "id": "39a8c839",
   "metadata": {},
   "outputs": [],
   "source": [
    "def feedback(sys1, sys2):\n",
    "    num=np.polymul(sys1.num, sys2.den)\n",
    "    a = np.polymul(sys1.num, sys2.num)\n",
    "    b = np.polymul(sys1.den, sys2.den)\n",
    "    den = np.polyadd(a,b)\n",
    "    return lti(num,den)"
   ]
  },
  {
   "cell_type": "code",
   "execution_count": 17,
   "id": "f6248e4e",
   "metadata": {},
   "outputs": [
    {
     "data": {
      "text/latex": [
       "$\\displaystyle \\frac{2.0 s^{2} + 4.0 s + 6.0}{1.0 s^{3} + 4.0 s^{2} + 7.0 s + 8.0}$"
      ],
      "text/plain": [
       "(2.0*s**2 + 4.0*s + 6.0)/(1.0*s**3 + 4.0*s**2 + 7.0*s + 8.0)"
      ]
     },
     "execution_count": 17,
     "metadata": {},
     "output_type": "execute_result"
    }
   ],
   "source": [
    "pretysys(feedback(a,b))"
   ]
  },
  {
   "cell_type": "markdown",
   "id": "eeaf0a98",
   "metadata": {},
   "source": [
    "# Diseño de un controlador PI mediante asignación de polos"
   ]
  },
  {
   "cell_type": "code",
   "execution_count": 18,
   "id": "7f41a8e7",
   "metadata": {},
   "outputs": [],
   "source": [
    "def PI(sys, Mp=0.1, ts=2, p_sys=False):\n",
    "    K=sys.num[0]\n",
    "    tau = sys.den[0]\n",
    "    z = 1/np.sqrt(1+(np.pi/np.log(Mp)**2))\n",
    "    w = 4/(ts*z)\n",
    "    kp = (2*z*w*tau-1)/K\n",
    "    ki = (w**2)/K\n",
    "    return lti([kp, ki],[1,0])"
   ]
  },
  {
   "cell_type": "code",
   "execution_count": 19,
   "id": "7af3b7da",
   "metadata": {},
   "outputs": [
    {
     "data": {
      "text/latex": [
       "$\\displaystyle \\frac{1.6}{1.0 s + 2.0}$"
      ],
      "text/plain": [
       "1.6/(1.0*s + 2.0)"
      ]
     },
     "execution_count": 19,
     "metadata": {},
     "output_type": "execute_result"
    }
   ],
   "source": [
    "planta = lti(0.8,[0.5,1])\n",
    "pretysys(planta)"
   ]
  },
  {
   "cell_type": "code",
   "execution_count": 20,
   "id": "da4acec9",
   "metadata": {},
   "outputs": [
    {
     "data": {
      "text/plain": [
       "[<matplotlib.lines.Line2D at 0x295a0807d60>]"
      ]
     },
     "execution_count": 20,
     "metadata": {},
     "output_type": "execute_result"
    },
    {
     "data": {
      "image/png": "[encoded data removed]",
      "text/plain": [
       "<Figure size 432x288 with 1 Axes>"
      ]
     },
     "metadata": {
      "needs_background": "light"
     },
     "output_type": "display_data"
    }
   ],
   "source": [
    "t,y = planta.step()\n",
    "plt.plot(t,y)"
   ]
  },
  {
   "cell_type": "code",
   "execution_count": 21,
   "id": "72f087d1",
   "metadata": {},
   "outputs": [],
   "source": [
    "pi = PI(planta,Mp=0.15,ts=1.0)\n",
    "ser = serie(planta,pi)\n",
    "feed = feedback(ser,lti(1,1))"
   ]
  },
  {
   "cell_type": "code",
   "execution_count": 22,
   "id": "00904166",
   "metadata": {},
   "outputs": [],
   "source": [
    "t1,y1 = feed.step(T=t)"
   ]
  },
  {
   "cell_type": "code",
   "execution_count": 23,
   "id": "737cee0d",
   "metadata": {},
   "outputs": [
    {
     "data": {
      "text/plain": [
       "<function matplotlib.pyplot.show(close=None, block=None)>"
      ]
     },
     "execution_count": 23,
     "metadata": {},
     "output_type": "execute_result"
    },
    {
     "data": {
      "image/png": "[encoded data removed]",
      "text/plain": [
       "<Figure size 432x288 with 1 Axes>"
      ]
     },
     "metadata": {
      "needs_background": "light"
     },
     "output_type": "display_data"
    }
   ],
   "source": [
    "# %matplotlib notebook\n",
    "plt.plot(t,y,label='Sin control PI')\n",
    "plt.plot(t1,y1,label='Con control PI')\n",
    "plt.plot([t[0],t[-1]],[1]*2,label='Set point')\n",
    "plt.legend(loc='best')\n",
    "plt.grid()\n",
    "plt.show"
   ]
  },
  {
   "cell_type": "markdown",
   "id": "2fa04f16",
   "metadata": {},
   "source": [
    "# PID interactivo"
   ]
  },
  {
   "cell_type": "code",
   "execution_count": 24,
   "id": "a33a89f5",
   "metadata": {},
   "outputs": [],
   "source": [
    "def param(t,y):\n",
    "  n=0 #indice del tiempo de levantamiento\n",
    "  vf=y[-1]#valor final de la respuesta\n",
    "  tp=t[np.argmax(y)] # tiempo pico\n",
    "  Ma=(max(y)-y[-1])/y[-1]#porcentaje de maximo sobreimpulso\n",
    "\n",
    "  while y[n]<vf:\n",
    "    n+=1\n",
    "  \n",
    "  tl=t[n]#tiempo de levantamiento\n",
    "\n",
    "  e=abs(y-vf) #error absoluto\n",
    "\n",
    "  ei=e[::-1]#error en orden invertido\n",
    "  \n",
    "  m=1 #indice del tiempo de establecimiento\n",
    "\n",
    "  while ei[m]<2*vf/100:\n",
    "    m+=1\n",
    "  \n",
    "  ts=t[-m]# tiempo de establecimiento al 2%\n",
    "\n",
    "  return print(f'%Amax={Ma*100}\\nVf={vf}\\ntp={tp}\\ntl={tl}\\nts={ts}')"
   ]
  },
  {
   "cell_type": "code",
   "execution_count": 25,
   "id": "82a8fd96",
   "metadata": {},
   "outputs": [],
   "source": [
    "def pid_tuner(sys,ret=0.0,kp=10,ki=10,kd=10,delta_P=0.01,delta_I=0.01,delta_D=0.01):\n",
    "\n",
    "  @interact(kp=(0.001,kp,delta_P),ki=(0.001,ki,delta_I),kd=(0.001,kd,delta_D),param_orig=['Yes','No'],param_cont=['Yes','No'])\n",
    "  def CONTROLAR(kp,ki,kd,param_orig,param_cont):\n",
    "    ts,ys=sys.step()\n",
    "    plt.plot(ts,ys,label='Sistema sin controlar')\n",
    "    plt.legend(loc='best')\n",
    "    cont=lti([kd,kp,ki],[1,0])\n",
    "    ser=serie(cont,sys)\n",
    "    fed=feedback(ser,lti([1],[1]))\n",
    "    tc,yc=fed.step(T=ts)\n",
    "    plt.plot(tc,yc,label='Sistema controlado')\n",
    "    plt.legend(loc='best')\n",
    "    plt.title('PID')\n",
    "    plt.xlabel('T(s)')\n",
    "    plt.ylabel('Amplitud')\n",
    "    plt.grid()\n",
    "    plt.show\n",
    "    if param_orig==\"Yes\":\n",
    "      print('\\n Parametros del sistema origianal')\n",
    "      param(ts,ys)\n",
    "    \n",
    "    if param_cont=='Yes':\n",
    "      print('\\n Parametros del sistema controlado')\n",
    "      param(tc,yc)"
   ]
  },
  {
   "cell_type": "code",
   "execution_count": 26,
   "id": "280899f6",
   "metadata": {},
   "outputs": [],
   "source": [
    "sys=lti([2],[1,2,3])"
   ]
  },
  {
   "cell_type": "code",
   "execution_count": 27,
   "id": "cb231483",
   "metadata": {},
   "outputs": [
    {
     "data": {
      "application/vnd.jupyter.widget-view+json": {
       "model_id": "ec306c23c6e1444f88a3a2601635ec8a",
       "version_major": 2,
       "version_minor": 0
      },
      "text/plain": [
       "interactive(children=(FloatSlider(value=4.9910000000000005, description='kp', max=10.0, min=0.001, step=0.01),…"
      ]
     },
     "metadata": {},
     "output_type": "display_data"
    }
   ],
   "source": [
    "pid_tuner(sys)"
   ]
  },
  {
   "cell_type": "code",
   "execution_count": null,
   "id": "d50b7e0d",
   "metadata": {},
   "outputs": [],
   "source": []
  }
 ],
 "metadata": {
  "kernelspec": {
   "display_name": "Python 3 (ipykernel)",
   "language": "python",
   "name": "python3"
  },
  "language_info": {
   "codemirror_mode": {
    "name": "ipython",
    "version": 3
   },
   "file_extension": ".py",
   "mimetype": "text/x-python",
   "name": "python",
   "nbconvert_exporter": "python",
   "pygments_lexer": "ipython3",
   "version": "3.9.7"
  }
 },
 "nbformat": 4,
 "nbformat_minor": 5
}
